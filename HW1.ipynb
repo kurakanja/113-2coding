{
  "nbformat": 4,
  "nbformat_minor": 0,
  "metadata": {
    "colab": {
      "provenance": [],
      "authorship_tag": "ABX9TyO2A3D4kAXQXeshzEfod3MX",
      "include_colab_link": true
    },
    "kernelspec": {
      "name": "python3",
      "display_name": "Python 3"
    },
    "language_info": {
      "name": "python"
    }
  },
  "cells": [
    {
      "cell_type": "markdown",
      "metadata": {
        "id": "view-in-github",
        "colab_type": "text"
      },
      "source": [
        "<a href=\"https://colab.research.google.com/github/kurakanja/113-2coding/blob/main/HW1.ipynb\" target=\"_parent\"><img src=\"https://colab.research.google.com/assets/colab-badge.svg\" alt=\"Open In Colab\"/></a>"
      ]
    },
    {
      "cell_type": "markdown",
      "source": [
        "AI 助理記帳系統（I/O to GoogleSheet + LLM + 條件判斷）\n",
        "\n",
        "使用 Google Sheets 作為記帳工具\n",
        "透過 LLM幫助分類消費類別（如餐飲、交通、娛樂），並匯入Google sheet與加總\n",
        "\n",
        "試算表:\n",
        "https://docs.google.com/spreadsheets/d/1BHVKroBrAX9O0Ygst-8kIlfZ1xKUqMb9UOUibw1ZqyE/edit?usp=sharing"
      ],
      "metadata": {
        "id": "EPvLYzeDjkyO"
      }
    },
    {
      "cell_type": "markdown",
      "source": [
        "此colab連結:https://colab.research.google.com/drive/1UjYIWQ7cdSMY58y78H2SQArCbBegoKxq?usp=sharing"
      ],
      "metadata": {
        "id": "1saW3nDUY3kJ"
      }
    },
    {
      "cell_type": "code",
      "execution_count": null,
      "metadata": {
        "id": "bFX_oiW7jJCj"
      },
      "outputs": [],
      "source": [
        "from google.colab import userdata\n",
        "apikey = userdata.get('GOOGLE_API_KEY')\n",
        "import google.generativeai as genai\n",
        "genai.configure(api_key = apikey)\n",
        "model = genai.GenerativeModel(\"gemini-1.5-flash\")"
      ]
    },
    {
      "cell_type": "code",
      "source": [
        "from google.colab import auth\n",
        "auth.authenticate_user()\n",
        "\n",
        "import gspread\n",
        "from google.auth import default\n",
        "creds, _ = default()\n",
        "\n",
        "gc = gspread.authorize(creds)\n",
        "import pandas as pd\n",
        "# read data and put it in a dataframe\n",
        "# 在 google 工作表載入 gsheets\n",
        "gsheets = gc.open_by_url('https://docs.google.com/spreadsheets/d/1BHVKroBrAX9O0Ygst-8kIlfZ1xKUqMb9UOUibw1ZqyE/edit?gid=0#gid=0')"
      ],
      "metadata": {
        "id": "ztK4JF_KdDL3"
      },
      "execution_count": null,
      "outputs": []
    },
    {
      "cell_type": "markdown",
      "source": [
        "輸入數據"
      ],
      "metadata": {
        "id": "WJESGh-Af2IV"
      }
    },
    {
      "cell_type": "code",
      "source": [
        " spending_records = []  # 用來存放所有消費紀錄\n",
        " while True:\n",
        "        print(\"\\n紀錄一筆消費 (輸入 '結束' 來結束)\")\n",
        "        spending_stuff = input(\"消費名稱: \")\n",
        "\n",
        "        if spending_stuff == \"結束\":\n",
        "            print(\"輸入結束，已存檔。\")\n",
        "            break  # 跳出迴圈\n",
        "\n",
        "        spending_money = input(\"花了多少錢: \")\n",
        "\n",
        "        # 檢查金額是否為數字\n",
        "        if not spending_money.isdigit():\n",
        "            print(\"請輸入有效的數字！\")\n",
        "            continue  # 重新輸入\n",
        "\n",
        "        spending_money = int(spending_money)\n",
        "\n",
        "        prompt = f'花費名稱: {spending_stuff} 請歸類此筆消費為哪種類別之消費(飲食、著裝、娛樂、生活、其他等，盡量不用分太細)並只回答類別名稱'\n",
        "\n",
        "        response = model.generate_content(prompt)\n",
        "        spending_type = response.text\n",
        "\n",
        "        # 建立字典儲存這筆消費\n",
        "        spending_record ={\n",
        "\n",
        "            \"名稱\": spending_stuff,\n",
        "            \"金額\": spending_money,\n",
        "            \"類別\": spending_type\n",
        "            }\n",
        "        # 將這筆紀錄加入列表\n",
        "        spending_records.append(spending_record)\n",
        "        print(\"消費紀錄已儲存！\")"
      ],
      "metadata": {
        "colab": {
          "base_uri": "https://localhost:8080/",
          "height": 607
        },
        "id": "D6Utd0NaZfzq",
        "outputId": "80a0a157-cad4-4cfc-d541-5ce1ca89864f"
      },
      "execution_count": null,
      "outputs": [
        {
          "output_type": "stream",
          "name": "stdout",
          "text": [
            "\n",
            "紀錄一筆消費 (輸入 '結束' 來結束)\n",
            "消費名稱: 啤酒\n",
            "花了多少錢: 89\n",
            "消費紀錄已儲存！\n",
            "\n",
            "紀錄一筆消費 (輸入 '結束' 來結束)\n",
            "消費名稱: 和朋友逛街\n",
            "花了多少錢: 650\n",
            "消費紀錄已儲存！\n",
            "\n",
            "紀錄一筆消費 (輸入 '結束' 來結束)\n",
            "消費名稱: 搭車\n",
            "花了多少錢: 12\n",
            "消費紀錄已儲存！\n",
            "\n",
            "紀錄一筆消費 (輸入 '結束' 來結束)\n",
            "消費名稱: 買襪子\n",
            "花了多少錢: 65\n",
            "消費紀錄已儲存！\n",
            "\n",
            "紀錄一筆消費 (輸入 '結束' 來結束)\n",
            "消費名稱: 吃雞排\n",
            "花了多少錢: 99\n",
            "消費紀錄已儲存！\n",
            "\n",
            "紀錄一筆消費 (輸入 '結束' 來結束)\n",
            "消費名稱: 亂花錢，忘了\n",
            "花了多少錢: 165\n",
            "消費紀錄已儲存！\n",
            "\n",
            "紀錄一筆消費 (輸入 '結束' 來結束)\n",
            "消費名稱: 結束\n",
            "輸入結束，已存檔。\n"
          ]
        }
      ]
    },
    {
      "cell_type": "code",
      "source": [
        "total_spending = sum(record['金額'] for record in spending_records)\n",
        "print(f\" 本次總花費: {total_spending} 元\")\n",
        "spending_records"
      ],
      "metadata": {
        "colab": {
          "base_uri": "https://localhost:8080/"
        },
        "id": "7h6NbJAEl7XT",
        "outputId": "aaaff720-1ce8-4dc9-d578-e1a1d7f911ab"
      },
      "execution_count": null,
      "outputs": [
        {
          "output_type": "stream",
          "name": "stdout",
          "text": [
            " 本次總花費: 1080 元\n"
          ]
        },
        {
          "output_type": "execute_result",
          "data": {
            "text/plain": [
              "[{'名稱': '啤酒', '金額': 89, '類別': '飲食\\n'},\n",
              " {'名稱': '和朋友逛街', '金額': 650, '類別': '娛樂\\n'},\n",
              " {'名稱': '搭車', '金額': 12, '類別': '生活\\n'},\n",
              " {'名稱': '買襪子', '金額': 65, '類別': '著裝\\n'},\n",
              " {'名稱': '吃雞排', '金額': 99, '類別': '飲食\\n'},\n",
              " {'名稱': '亂花錢，忘了', '金額': 165, '類別': '其他\\n'}]"
            ]
          },
          "metadata": {},
          "execution_count": 4
        }
      ]
    },
    {
      "cell_type": "code",
      "source": [
        "# 轉換成 DataFrame\n",
        "from io import StringIO\n",
        "\n",
        "# 轉換為 DataFrame\n",
        "\n",
        "df = pd.DataFrame(spending_records)\n",
        "\n",
        "# 去除「類別」欄位中的換行符號\n",
        "df['類別'] = df['類別'].str.strip()\n",
        "\n",
        "# 顯示 DataFrame\n",
        "print(df)"
      ],
      "metadata": {
        "colab": {
          "base_uri": "https://localhost:8080/"
        },
        "id": "zesEKu_DsUr4",
        "outputId": "08331d04-a75c-466b-d5d1-6f1a53732a6e"
      },
      "execution_count": null,
      "outputs": [
        {
          "output_type": "stream",
          "name": "stdout",
          "text": [
            "       名稱   金額  類別\n",
            "0      啤酒   89  飲食\n",
            "1   和朋友逛街  650  娛樂\n",
            "2      搭車   12  生活\n",
            "3     買襪子   65  著裝\n",
            "4     吃雞排   99  飲食\n",
            "5  亂花錢，忘了  165  其他\n"
          ]
        }
      ]
    },
    {
      "cell_type": "code",
      "source": [
        "\n",
        "from gspread_dataframe import set_with_dataframe\n",
        "# 選擇要更新的工作表（選擇第一個工作表）\n",
        "worksheet_allcommand = gsheets.get_worksheet(0)  # 如果是其他工作表，可以用 get_worksheet(index)\n",
        "# 將 DataFrame 寫入 Google Sheets\n",
        "set_with_dataframe(worksheet_allcommand, df)\n",
        "# 在 Google Sheets 最後一行新增 \"合計\"\n",
        "worksheet_allcommand.append_row([\"合計\", total_spending, \"\"])\n",
        "print(f\"✅ 已成功新增紀錄表格與合計至 Google Sheets！本次總花費: {total_spending} 元\")"
      ],
      "metadata": {
        "colab": {
          "base_uri": "https://localhost:8080/"
        },
        "id": "1or1JOWmsifw",
        "outputId": "827597a4-5944-40b2-8b74-cec529ab332b"
      },
      "execution_count": null,
      "outputs": [
        {
          "output_type": "stream",
          "name": "stdout",
          "text": [
            "✅ 已成功新增紀錄表格與合計至 Google Sheets！本次總花費: 1080 元\n"
          ]
        }
      ]
    }
  ]
}