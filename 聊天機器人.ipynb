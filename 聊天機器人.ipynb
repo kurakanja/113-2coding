{
  "cells": [
    {
      "cell_type": "markdown",
      "metadata": {
        "id": "view-in-github",
        "colab_type": "text"
      },
      "source": [
        "<a href=\"https://colab.research.google.com/github/kurakanja/113-2coding/blob/main/%E8%81%8A%E5%A4%A9%E6%A9%9F%E5%99%A8%E4%BA%BA.ipynb\" target=\"_parent\"><img src=\"https://colab.research.google.com/assets/colab-badge.svg\" alt=\"Open In Colab\"/></a>"
      ]
    },
    {
      "cell_type": "markdown",
      "metadata": {
        "id": "FzAHtzePPM_a"
      },
      "source": [
        "#這個是學習資源連結\n",
        "取得API key在這邊：https://ai.google.dev/\n",
        "\n",
        "怎麼用Gemini：https://ai.google.dev/gemini-api/docs/quickstart?lang=python"
      ]
    },
    {
      "cell_type": "code",
      "execution_count": 1,
      "metadata": {
        "id": "tioEPqr0O13e"
      },
      "outputs": [],
      "source": [
        "#保護並存放隱私資料（例如 API key或密碼）\n",
        "from google.colab import userdata\n",
        "apikey = userdata.get('test')"
      ]
    },
    {
      "cell_type": "markdown",
      "metadata": {
        "id": "8RQmoaCIR8q5"
      },
      "source": [
        "#先來做測試\n",
        "我們叫Gemini寫一個故事給我們"
      ]
    },
    {
      "cell_type": "code",
      "execution_count": 2,
      "metadata": {
        "colab": {
          "base_uri": "https://localhost:8080/",
          "height": 349
        },
        "id": "CbU4hRQO5NYJ",
        "outputId": "33580434-1d08-488b-c0ac-c10d35b3bd4d"
      },
      "outputs": [
        {
          "output_type": "stream",
          "name": "stdout",
          "text": [
            "阿哲是個平凡的國中生，成績中等，朋友不多，生活就像一潭死水，波瀾不驚。直到他奶奶過世，留給他一個看起來普普通通的帆布背包。\n",
            "\n",
            "這個背包顏色黯淡，布料粗糙，上面甚至還有些許污漬，完全不像什麼值錢的遺物。阿哲原本打算將它丟棄，卻在整理奶奶遺物時，發現背包內側縫著一個小小的、幾乎看不見的繡花圖案：一隻展翅欲飛的鳳凰。\n",
            "\n",
            "好奇心驅使他背上背包。剎那間，一股溫暖的氣流包圍了他，周圍的一切似乎都變得清晰明亮起來。他試著從背包裡拿出一個蘋果，卻發現背包裡多出了一個閃閃發光的紅蘋果，比他原本的蘋果還要大上許多，香氣撲鼻。\n",
            "\n",
            "起初，阿哲只是覺得有趣，他試著放進其他東西：一枝鉛筆，變成了一套精美的文具組；一本破舊的漫畫書，變成了一套全新的珍藏版。這個背包，居然可以將平凡之物變為珍奇之物！\n",
            "\n",
            "但魔法並非沒有限制。阿哲很快發現，背包的「升級」功能，是基於物品的「潛力」。一個普通的石頭，只能變成一顆稍微光滑一點的石頭；而一朵不起眼的小花，卻能變成一株盛開的奇異花卉，散發著淡淡的幽香。\n",
            "\n",
            "阿哲開始利用背包的魔法。他將枯萎的盆栽變回生機盎然，用平凡的食材製作出美味佳餚，甚至將破舊的球鞋變成了最新款的運動鞋。他變得熱心助人，幫助同學修理壞掉的文具，分享美味的食物，他的生活也因為這個魔法背包而變得豐富多彩。\n",
            "\n",
            "然而，好運不會永遠持續。有一天，阿哲想要將一個成績不及格的考卷變成滿分試卷，卻發現背包沒有反應。他試圖將一些珍貴的物品變出更多，也同樣失敗了。\n",
            "\n",
            "背包似乎在告訴他，魔法並非用於作弊或貪婪，而是用於提升事物本身的價值，用於創造美好。阿哲明白了，奶奶留給他的，並非一個滿足私慾的工具，而是一份珍貴的禮物，一份鼓勵他努力、創造、並分享美好事物的心意。\n",
            "\n",
            "從那天起，阿哲不再依賴背包的魔法，他開始專注於學習，用心經營友情，努力將自己的潛力發揮到極致。他不再是那個平凡的國中生，他擁有了比魔法更珍貴的東西：自信、善良，以及一個充滿希望的未來。而那個魔法背包，則靜靜地躺在他的書桌旁，提醒他，真正的魔法，來自於內心。\n",
            "\n"
          ]
        }
      ],
      "source": [
        "#讓我們來測試gemini!先要求寫一個故事給我\n",
        "import google.generativeai as genai\n",
        "genai.configure(api_key = apikey)\n",
        "model = genai.GenerativeModel(\"gemini-1.5-flash\")\n",
        "#底下是給予寫故事指令的程式碼\n",
        "response = model.generate_content(\"Write a story about a magic backpack.，繁體中文\")\n",
        "print(response.text)"
      ]
    },
    {
      "cell_type": "markdown",
      "metadata": {
        "id": "kWtHx6L8SqRI"
      },
      "source": [
        "#翻譯機器人\n",
        "太好了成功了!但是這樣我們跟機器人還沒開始互動，他只是單方面給我們故事而已，所以我們來做第二個測試，做出一個可以跟我們互動的翻譯機器人吧!"
      ]
    },
    {
      "cell_type": "code",
      "execution_count": 4,
      "metadata": {
        "id": "pGWIk_Ng7E1g"
      },
      "outputs": [],
      "source": [
        "def translate_text(text, target_language):\n",
        "    prompt = f\"Translate the following text to {target_language}: {text}\"\n",
        "    response = model.generate_content(prompt)\n",
        "    return response.text"
      ]
    },
    {
      "cell_type": "code",
      "execution_count": null,
      "metadata": {
        "id": "sPMk9mkT6--P"
      },
      "outputs": [],
      "source": [
        "#開始來做自己的機器人!\n",
        "\n",
        "def chat_bot():\n",
        "    print(\"歡迎使用翻譯機器人\")\n",
        "    print(\"輸入'exit'來退出，'change'來更改目標語言\")\n",
        "\n",
        "    target_language = input(\"輸入你想要翻譯成什麼語言 (e.g., French, Spanish, Chinese): \").strip()\n",
        "\n",
        "    while True:\n",
        "        user_input = input(\"輸入你要翻譯的文字: \")\n",
        "\n",
        "        if user_input.lower() == \"exit\":\n",
        "            print(\"再見！感謝使用翻譯機器人。\")\n",
        "            break\n",
        "        elif user_input.lower() == \"change\":\n",
        "            target_language = input(\"輸入你想要翻譯成什麼語言 (e.g., French, Spanish, Chinese): \").strip()\n",
        "\n",
        "            continue\n",
        "\n",
        "\n",
        "        # 執行翻譯\n",
        "        translation = translate_text(user_input, target_language)\n",
        "        print(f\"翻譯成 {target_language} 的結果: {translation}\")"
      ]
    },
    {
      "cell_type": "code",
      "execution_count": 8,
      "metadata": {
        "colab": {
          "base_uri": "https://localhost:8080/",
          "height": 158
        },
        "id": "PKMUacAi7JEU",
        "outputId": "7fb2054b-d50d-4d8a-dd17-8102c6f93e5c"
      },
      "outputs": [
        {
          "output_type": "error",
          "ename": "NameError",
          "evalue": "name 'chat_bot' is not defined",
          "traceback": [
            "\u001b[0;31m---------------------------------------------------------------------------\u001b[0m",
            "\u001b[0;31mNameError\u001b[0m                                 Traceback (most recent call last)",
            "\u001b[0;32m<ipython-input-8-a1cccba637dd>\u001b[0m in \u001b[0;36m<cell line: 0>\u001b[0;34m()\u001b[0m\n\u001b[1;32m      1\u001b[0m \u001b[0;31m#呼叫機器人!\u001b[0m\u001b[0;34m\u001b[0m\u001b[0;34m\u001b[0m\u001b[0m\n\u001b[0;32m----> 2\u001b[0;31m \u001b[0mchat_bot\u001b[0m\u001b[0;34m(\u001b[0m\u001b[0;34m)\u001b[0m\u001b[0;34m\u001b[0m\u001b[0;34m\u001b[0m\u001b[0m\n\u001b[0m",
            "\u001b[0;31mNameError\u001b[0m: name 'chat_bot' is not defined"
          ]
        }
      ],
      "source": [
        "#呼叫機器人!\n",
        "chat_bot()"
      ]
    },
    {
      "cell_type": "markdown",
      "metadata": {
        "id": "yFzOt5YUDufk"
      },
      "source": [
        "# 吵你的同事吧\n",
        "不要吵同事!"
      ]
    },
    {
      "cell_type": "code",
      "execution_count": 7,
      "metadata": {
        "colab": {
          "base_uri": "https://localhost:8080/",
          "height": 399
        },
        "id": "2zQyIYUrDz-g",
        "outputId": "a48636af-628a-4aa8-96d6-77feeefe95e7"
      },
      "outputs": [
        {
          "output_type": "stream",
          "name": "stdout",
          "text": [
            "歡迎來到不想聊天同事機器人！\n",
            "輸入'好我不吵你了'結束對話，或輸入'我要換座位'設定新的場景\n",
            "你: 777\n",
            "冷漠的同事: 我現在很忙，沒時間聊天。\n",
            "\n",
            "你: 你在看啥\n",
            "冷漠的同事: 工作。\n",
            "\n",
            "你: 喔\n",
            "冷漠的同事: 不好意思，我現在很忙。\n",
            "\n",
            "你: 陪我摸魚\n",
            "冷漠的同事: 我現在很忙，沒空。\n",
            "\n",
            "你: 拜託\n",
            "冷漠的同事: 我現在沒空。\n",
            "\n",
            "你: 幫我工作\n",
            "冷漠的同事: 抱歉，我現在很忙，沒時間。\n",
            "\n",
            "你: 好我不吵你了\n",
            "冷漠的同事: 謝謝\n"
          ]
        }
      ],
      "source": [
        "\n",
        "\n",
        "# 聊天機器人\n",
        "def counseling_chatbot():\n",
        "    if model is None:\n",
        "        print(\"無法啟動聊天機器人，因為模型尚未初始化。請檢查 API 金鑰或模型設定。\")\n",
        "        return\n",
        "\n",
        "    print(\"歡迎來到不想聊天同事機器人！\")\n",
        "    print(\"輸入'好我不吵你了'結束對話，或輸入'我要換座位'設定新的場景\")\n",
        "\n",
        "    # 設定初始場景\n",
        "    current_scene = \"你是一位不想聊天的同事，但使用者會不段的挑戰你，請用一句話無情的結束話題\"\n",
        "\n",
        "    while True:\n",
        "        user_input = input(\"你: \").strip()\n",
        "\n",
        "        if user_input.lower() == \"好我不吵你了\":\n",
        "            print(\"冷漠的同事: 謝謝\")\n",
        "            break\n",
        "        elif user_input.lower() == \"我要換座位\":\n",
        "            current_scene = \"你是一位不想聊天的人，但使用者會不段的挑戰你，請用一句話無情的結束話題，但盡量不要重複相同回復\"\n",
        "            print(\"你患了一個新位置！你可以開始吵新同事了。\")\n",
        "            continue\n",
        "\n",
        "            continue\n",
        "\n",
        "        # 設定 prompt，結合場景與用戶輸入\n",
        "        prompt = f\"{current_scene} 使用者說: {user_input} 不想聊天的人應如何句點他？\"\n",
        "\n",
        "        # 使用生成模型\n",
        "        try:\n",
        "            response = model.generate_content(prompt)\n",
        "            print(f\"冷漠的同事: {response.text}\")\n",
        "        except Exception as e:\n",
        "            print(f\"抱歉，目前無法生成回應。錯誤: {e}\")\n",
        "\n",
        "# 啟動聊天機器人\n",
        "counseling_chatbot()"
      ]
    },
    {
      "cell_type": "code",
      "execution_count": null,
      "metadata": {
        "id": "TBsDJ4kSshDk"
      },
      "outputs": [],
      "source": []
    }
  ],
  "metadata": {
    "colab": {
      "provenance": [],
      "include_colab_link": true
    },
    "kernelspec": {
      "display_name": "Python 3",
      "name": "python3"
    },
    "language_info": {
      "name": "python"
    }
  },
  "nbformat": 4,
  "nbformat_minor": 0
}