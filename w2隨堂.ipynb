{
  "nbformat": 4,
  "nbformat_minor": 0,
  "metadata": {
    "colab": {
      "provenance": [],
      "include_colab_link": true
    },
    "kernelspec": {
      "name": "python3",
      "display_name": "Python 3"
    },
    "language_info": {
      "name": "python"
    }
  },
  "cells": [
    {
      "cell_type": "markdown",
      "metadata": {
        "id": "view-in-github",
        "colab_type": "text"
      },
      "source": [
        "<a href=\"https://colab.research.google.com/github/kurakanja/113-2coding/blob/main/w2%E9%9A%A8%E5%A0%82.ipynb\" target=\"_parent\"><img src=\"https://colab.research.google.com/assets/colab-badge.svg\" alt=\"Open In Colab\"/></a>"
      ]
    },
    {
      "cell_type": "markdown",
      "source": [
        "授權"
      ],
      "metadata": {
        "id": "WDDBH-9aXGtL"
      }
    },
    {
      "cell_type": "code",
      "source": [
        "#授權\n",
        "from google.colab import auth\n",
        "auth.authenticate_user()\n",
        "\n",
        "import gspread\n",
        "from google.auth import default\n",
        "creds, _ = default()\n",
        "\n",
        "gc = gspread.authorize(creds)"
      ],
      "metadata": {
        "id": "Ew3Nn_B3eYXC"
      },
      "execution_count": 4,
      "outputs": []
    },
    {
      "cell_type": "code",
      "source": [
        "import pandas as pd\n",
        "# read data and put it in a dataframe\n",
        "# 在 google 工作表載入 gsheets\n",
        "gsheets = gc.open_by_url('https://docs.google.com/spreadsheets/d/1Q_WjdN6BUN3Fet92pqQJhcu3wA2Po6xA9QOdb2CxYNo/edit?usp=sharing')"
      ],
      "metadata": {
        "id": "71RJSwGleci0"
      },
      "execution_count": 13,
      "outputs": []
    },
    {
      "cell_type": "markdown",
      "source": [
        "資料轉試算表"
      ],
      "metadata": {
        "id": "wYwAk0rRViQL"
      }
    },
    {
      "cell_type": "code",
      "source": [
        "import pandas as pd\n",
        "import random\n",
        "\n",
        "# Define food portions and their respective calorie values (estimated based on average serving sizes)\n",
        "food_calories = {\n",
        "    \"grains\": {\n",
        "        \"Rice\": 200,\n",
        "        \"Noodles\": 220,\n",
        "        \"Oatmeal\": 150,\n",
        "        \"Sweet Potato\": 90,\n",
        "        \"Corn\": 100,\n",
        "        \"Whole Wheat Bread\": 120\n",
        "    },\n",
        "    \"proteins\": {\n",
        "        \"Egg\": 70,\n",
        "        \"Tofu\": 80,\n",
        "        \"Chicken Breast\": 165,\n",
        "        \"Fish\": 140,\n",
        "        \"Shrimp\": 90,\n",
        "        \"Pork\": 210,\n",
        "        \"Beans\": 130\n",
        "    },\n",
        "    \"dairy\": {\n",
        "        \"Milk\": 120,\n",
        "        \"Yogurt\": 150,\n",
        "        \"Cheese\": 90\n",
        "    },\n",
        "    \"vegetables\": {\n",
        "        \"Spinach\": 25,\n",
        "        \"Broccoli\": 55,\n",
        "        \"Carrots\": 50,\n",
        "        \"Kale\": 40,\n",
        "        \"Lettuce\": 15,\n",
        "        \"Cucumber\": 20\n",
        "    },\n",
        "    \"fruits\": {\n",
        "        \"Banana\": 105,\n",
        "        \"Apple\": 95,\n",
        "        \"Orange\": 62,\n",
        "        \"Watermelon\": 85,\n",
        "        \"Papaya\": 55,\n",
        "        \"Kiwi\": 42\n",
        "    },\n",
        "    \"oils\": {\n",
        "        \"Olive Oil\": 120,\n",
        "        \"Sesame Oil\": 120,\n",
        "        \"Almonds\": 100,\n",
        "        \"Peanuts\": 90,\n",
        "        \"Walnuts\": 100,\n",
        "        \"Sunflower Seeds\": 80\n",
        "    }\n",
        "}"
      ],
      "metadata": {
        "id": "PzFAi_7VcD21"
      },
      "execution_count": 8,
      "outputs": []
    },
    {
      "cell_type": "code",
      "source": [
        "# 轉換為 DataFrame\n",
        "data = []\n",
        "for category, items in food_calories.items():\n",
        "    for food, calories in items.items():\n",
        "        data.append([category, food, calories])\n",
        "\n",
        "df = pd.DataFrame(data, columns=[\"Category\", \"Food\", \"Calories\"])\n",
        "print(df)"
      ],
      "metadata": {
        "colab": {
          "base_uri": "https://localhost:8080/"
        },
        "id": "e4pSkDXcEnVc",
        "outputId": "d4c4324d-c519-465e-ec8b-b7957c02bf96"
      },
      "execution_count": 9,
      "outputs": [
        {
          "output_type": "stream",
          "name": "stdout",
          "text": [
            "      Category               Food  Calories\n",
            "0       grains               Rice       200\n",
            "1       grains            Noodles       220\n",
            "2       grains            Oatmeal       150\n",
            "3       grains       Sweet Potato        90\n",
            "4       grains               Corn       100\n",
            "5       grains  Whole Wheat Bread       120\n",
            "6     proteins                Egg        70\n",
            "7     proteins               Tofu        80\n",
            "8     proteins     Chicken Breast       165\n",
            "9     proteins               Fish       140\n",
            "10    proteins             Shrimp        90\n",
            "11    proteins               Pork       210\n",
            "12    proteins              Beans       130\n",
            "13       dairy               Milk       120\n",
            "14       dairy             Yogurt       150\n",
            "15       dairy             Cheese        90\n",
            "16  vegetables            Spinach        25\n",
            "17  vegetables           Broccoli        55\n",
            "18  vegetables            Carrots        50\n",
            "19  vegetables               Kale        40\n",
            "20  vegetables            Lettuce        15\n",
            "21  vegetables           Cucumber        20\n",
            "22      fruits             Banana       105\n",
            "23      fruits              Apple        95\n",
            "24      fruits             Orange        62\n",
            "25      fruits         Watermelon        85\n",
            "26      fruits             Papaya        55\n",
            "27      fruits               Kiwi        42\n",
            "28        oils          Olive Oil       120\n",
            "29        oils         Sesame Oil       120\n",
            "30        oils            Almonds       100\n",
            "31        oils            Peanuts        90\n",
            "32        oils            Walnuts       100\n",
            "33        oils    Sunflower Seeds        80\n"
          ]
        }
      ]
    },
    {
      "cell_type": "markdown",
      "source": [
        "試算表轉data frame"
      ],
      "metadata": {
        "id": "Rc0c38AIVWbT"
      }
    },
    {
      "cell_type": "code",
      "source": [
        "from gspread_dataframe import set_with_dataframe\n",
        "\n",
        "# 選擇要更新的工作表（選擇第一個工作表）\n",
        "worksheet = gsheets.get_worksheet(0)  # 如果是其他工作表，可以用 get_worksheet(index)\n",
        "\n",
        "# 將 DataFrame 寫入 Google Sheets\n",
        "set_with_dataframe(worksheet, df)"
      ],
      "metadata": {
        "id": "pS_kacpYeeoI"
      },
      "execution_count": 14,
      "outputs": []
    },
    {
      "cell_type": "code",
      "source": [
        "worksheet_salary = gsheets.get_worksheet(1)\n",
        "# 取得 Google Sheets 內容\n",
        "# 讀取所有資料（包含標題）\n",
        "data = worksheet_salary.get_all_values()\n",
        "\n",
        "# 轉換為 DataFrame\n",
        "df = pd.DataFrame(data[1:], columns=data[0])  # 第一行作為標題\n",
        "df[\"薪資\"] = df[\"薪資\"].astype(int)  # 確保薪資是數字格式\n",
        "\n",
        "# 顯示 DataFrame\n",
        "print(df)\n"
      ],
      "metadata": {
        "colab": {
          "base_uri": "https://localhost:8080/"
        },
        "id": "jiA2EeTMPbjK",
        "outputId": "6c25f5f1-93c9-4a88-d38e-63c2e6d9c52b"
      },
      "execution_count": 16,
      "outputs": [
        {
          "output_type": "stream",
          "name": "stdout",
          "text": [
            "  員工姓名   部門     薪資\n",
            "0  王大明  業務部  50000\n",
            "1  李小華  業務部  52000\n",
            "2  陳美美  行銷部  48000\n",
            "3  黃志強  行銷部  51000\n",
            "4  張婷婷  研發部  70000\n",
            "5  林建國  研發部  72000\n"
          ]
        }
      ]
    }
  ]
}